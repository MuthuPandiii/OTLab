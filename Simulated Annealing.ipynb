{
 "cells": [
  {
   "cell_type": "code",
   "execution_count": 1,
   "id": "0705558a",
   "metadata": {},
   "outputs": [
    {
     "name": "stdout",
     "output_type": "stream",
     "text": [
      ">34 f([-0.78753544]) = 0.62021\n",
      ">35 f([-0.76914239]) = 0.59158\n",
      ">37 f([-0.68574854]) = 0.47025\n",
      ">39 f([-0.64797564]) = 0.41987\n",
      ">40 f([-0.58914623]) = 0.34709\n",
      ">41 f([-0.55446029]) = 0.30743\n",
      ">42 f([-0.41775702]) = 0.17452\n",
      ">43 f([-0.35038542]) = 0.12277\n",
      ">50 f([-0.15799045]) = 0.02496\n",
      ">66 f([-0.11089772]) = 0.01230\n",
      ">67 f([-0.09238208]) = 0.00853\n",
      ">72 f([-0.09145261]) = 0.00836\n",
      ">75 f([-0.05129162]) = 0.00263\n",
      ">93 f([-0.02854417]) = 0.00081\n",
      ">144 f([0.00864136]) = 0.00007\n",
      ">149 f([0.00753953]) = 0.00006\n",
      ">167 f([-0.00640394]) = 0.00004\n",
      ">225 f([-0.00044965]) = 0.00000\n",
      ">503 f([-0.00036261]) = 0.00000\n",
      ">512 f([0.00013605]) = 0.00000\n",
      "Done!\n",
      "f([0.00013605]) = 0.000000\n"
     ]
    }
   ],
   "source": [
    "from numpy import asarray\n",
    "from numpy import exp\n",
    "from numpy.random import randn\n",
    "from numpy.random import rand\n",
    "from numpy.random import seed\n",
    "\n",
    "def objective(x):\n",
    "    return x[0]**2.0\n",
    "\n",
    "\n",
    "def simulated_annealing(objective, bounds, n_iterations, step_size, temp):\n",
    "    \n",
    "    best = bounds[:, 0] + rand(len(bounds)) * (bounds[:, 1] - bounds[:, 0])\n",
    "    best_eval = objective(best)\n",
    "    curr, curr_eval = best, best_eval\n",
    "    \n",
    "    for i in range(n_iterations):\n",
    "        candidate = curr + randn(len(bounds)) * step_size\n",
    "        candidate_eval = objective(candidate)\n",
    "        \n",
    "        if candidate_eval < best_eval:\n",
    "            best, best_eval = candidate, candidate_eval\n",
    "            print('>%d f(%s) = %.5f' % (i, best, best_eval))\n",
    "            \n",
    "        diff = candidate_eval - curr_eval\n",
    "        t = temp / float(i + 1)\n",
    "        metropolis = exp(-diff / t)\n",
    "        \n",
    "        if diff < 0 or rand() < metropolis:\n",
    "            curr, curr_eval = candidate, candidate_eval\n",
    "    return [best, best_eval]\n",
    "\n",
    "seed(1)\n",
    "bounds = asarray([[-5.0, 5.0]])\n",
    "n_iterations = 1000\n",
    "step_size = 0.1\n",
    "temp = 10\n",
    "best, score = simulated_annealing(objective, bounds, n_iterations, step_size, temp)\n",
    "print('Done!')\n",
    "print('f(%s) = %f' % (best, score))"
   ]
  },
  {
   "cell_type": "code",
   "execution_count": null,
   "id": "3fd75203",
   "metadata": {},
   "outputs": [],
   "source": []
  }
 ],
 "metadata": {
  "kernelspec": {
   "display_name": "Python 3 (ipykernel)",
   "language": "python",
   "name": "python3"
  },
  "language_info": {
   "codemirror_mode": {
    "name": "ipython",
    "version": 3
   },
   "file_extension": ".py",
   "mimetype": "text/x-python",
   "name": "python",
   "nbconvert_exporter": "python",
   "pygments_lexer": "ipython3",
   "version": "3.9.13"
  }
 },
 "nbformat": 4,
 "nbformat_minor": 5
}
